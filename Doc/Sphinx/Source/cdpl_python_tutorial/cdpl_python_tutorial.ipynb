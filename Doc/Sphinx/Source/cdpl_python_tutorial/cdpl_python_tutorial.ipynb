{
 "cells": [
  {
   "cell_type": "markdown",
   "id": "42c7f6e5",
   "metadata": {},
   "source": [
    "Installing the CDPL Python bindings\n",
    "=============================="
   ]
  },
  {
   "cell_type": "code",
   "execution_count": null,
   "id": "cba18090",
   "metadata": {},
   "outputs": [],
   "source": [
    "pip install cdpkit"
   ]
  },
  {
   "cell_type": "markdown",
   "id": "cdf0a29d",
   "metadata": {},
   "source": [
    "Processing Molecules\n",
    "=================="
   ]
  },
  {
   "cell_type": "markdown",
   "id": "73f23f70",
   "metadata": {},
   "source": [
    "The data structures for the in-memory representation of molecules as well as functionality for\n",
    "their processing are located in package CDPL.Chem"
   ]
  },
  {
   "cell_type": "code",
   "execution_count": null,
   "id": "08a7a16f",
   "metadata": {},
   "outputs": [],
   "source": [
    "import CDPL.Chem as Chem"
   ]
  },
  {
   "cell_type": "markdown",
   "id": "ab311ad9",
   "metadata": {},
   "source": [
    "First example: parsing a SMILES string"
   ]
  },
  {
   "cell_type": "code",
   "execution_count": null,
   "id": "5a3dda7f",
   "metadata": {},
   "outputs": [],
   "source": [
    "mol = Chem.parseSMILES('c1ccccc1')"
   ]
  },
  {
   "cell_type": "markdown",
   "id": "19b740c1",
   "metadata": {},
   "source": [
    "Display of the parsed molecule:"
   ]
  },
  {
   "cell_type": "code",
   "execution_count": null,
   "id": "0b255569",
   "metadata": {},
   "outputs": [],
   "source": [
    "import CDPL.Vis\n",
    "\n",
    "display(mol)"
   ]
  },
  {
   "cell_type": "code",
   "execution_count": null,
   "id": "9d45bd36",
   "metadata": {},
   "outputs": [],
   "source": []
  }
 ],
 "metadata": {
  "kernelspec": {
   "display_name": "Python 3",
   "language": "python",
   "name": "python3"
  },
  "language_info": {
   "codemirror_mode": {
    "name": "ipython",
    "version": 3
   },
   "file_extension": ".py",
   "mimetype": "text/x-python",
   "name": "python",
   "nbconvert_exporter": "python",
   "pygments_lexer": "ipython3",
   "version": "3.6.8"
  }
 },
 "nbformat": 4,
 "nbformat_minor": 5
}
