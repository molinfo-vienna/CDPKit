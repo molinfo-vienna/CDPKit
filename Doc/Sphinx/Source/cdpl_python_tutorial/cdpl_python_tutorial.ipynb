{
 "cells": [
  {
   "cell_type": "markdown",
   "id": "42c7f6e5",
   "metadata": {},
   "source": [
    "Installing the CDPL Python bindings\n",
    "=============================="
   ]
  },
  {
   "cell_type": "code",
   "execution_count": null,
   "id": "cba18090",
   "metadata": {},
   "outputs": [],
   "source": [
    "pip install cdpkit"
   ]
  },
  {
   "cell_type": "markdown",
   "id": "cdf0a29d",
   "metadata": {},
   "source": [
    "Processing Molecules\n",
    "=================="
   ]
  },
  {
   "cell_type": "markdown",
   "id": "73f23f70",
   "metadata": {},
   "source": [
    "The data structures for the in-memory representation of molecules as well as functionality for\n",
    "their processing are located in package CDPL.Chem"
   ]
  },
  {
   "cell_type": "code",
   "execution_count": 1,
   "id": "08a7a16f",
   "metadata": {},
   "outputs": [],
   "source": [
    "import CDPL.Chem as Chem"
   ]
  },
  {
   "cell_type": "markdown",
   "id": "ab311ad9",
   "metadata": {},
   "source": [
    "First example: parsing a SMILES string"
   ]
  },
  {
   "cell_type": "code",
   "execution_count": 2,
   "id": "5a3dda7f",
   "metadata": {},
   "outputs": [
    {
     "data": {
      "text/plain": [
       "<CDPL.Chem._chem.BasicMolecule at 0x7fd0b6cf8b30>"
      ]
     },
     "execution_count": 2,
     "metadata": {},
     "output_type": "execute_result"
    }
   ],
   "source": [
    "mol = Chem.parseSMILES('c1ccccc1')\n",
    "\n",
    "mol"
   ]
  },
  {
   "cell_type": "markdown",
   "id": "19b740c1",
   "metadata": {},
   "source": [
    "Display of the parsed molecule:"
   ]
  },
  {
   "cell_type": "code",
   "execution_count": 4,
   "id": "0b255569",
   "metadata": {},
   "outputs": [
    {
     "data": {
      "image/svg+xml": [
       "<?xml version=\"1.0\" encoding=\"UTF-8\"?>\n",
       "<svg xmlns=\"http://www.w3.org/2000/svg\" xmlns:xlink=\"http://www.w3.org/1999/xlink\" width=\"51.961524pt\" height=\"60pt\" viewBox=\"0 0 51.961524 60\" version=\"1.1\">\n",
       "<g id=\"surface17\">\n",
       "<path style=\"fill:none;stroke-width:1.5;stroke-linecap:round;stroke-linejoin:round;stroke:rgb(0%,0%,0%);stroke-opacity:1;stroke-miterlimit:10;\" d=\"M -25.980762 -45 L -25.980762 -15 \" transform=\"matrix(1,0,0,1,25.980762,60)\"/>\n",
       "<path style=\"fill:none;stroke-width:1.5;stroke-linecap:round;stroke-linejoin:round;stroke:rgb(0%,0%,0%);stroke-opacity:1;stroke-miterlimit:10;\" d=\"M -21.480762 -42 L -21.480762 -18 \" transform=\"matrix(1,0,0,1,25.980762,60)\"/>\n",
       "<path style=\"fill:none;stroke-width:1.5;stroke-linecap:round;stroke-linejoin:round;stroke:rgb(0%,0%,0%);stroke-opacity:1;stroke-miterlimit:10;\" d=\"M -25.980762 -15 L -0.000293364 0.000000000000007105 \" transform=\"matrix(1,0,0,1,25.980762,60)\"/>\n",
       "<path style=\"fill:none;stroke-width:1.5;stroke-linecap:round;stroke-linejoin:round;stroke:rgb(0%,0%,0%);stroke-opacity:1;stroke-miterlimit:10;\" d=\"M -0.000293364 0.000000000000007105 L 25.980175 -15 \" transform=\"matrix(1,0,0,1,25.980762,60)\"/>\n",
       "<path style=\"fill:none;stroke-width:1.5;stroke-linecap:round;stroke-linejoin:round;stroke:rgb(0%,0%,0%);stroke-opacity:1;stroke-miterlimit:10;\" d=\"M 0.347363 -5.398437 L 21.132519 -17.398437 \" transform=\"matrix(1,0,0,1,25.980762,60)\"/>\n",
       "<path style=\"fill:none;stroke-width:1.5;stroke-linecap:round;stroke-linejoin:round;stroke:rgb(0%,0%,0%);stroke-opacity:1;stroke-miterlimit:10;\" d=\"M 25.980175 -15 L 25.980175 -45 \" transform=\"matrix(1,0,0,1,25.980762,60)\"/>\n",
       "<path style=\"fill:none;stroke-width:1.5;stroke-linecap:round;stroke-linejoin:round;stroke:rgb(0%,0%,0%);stroke-opacity:1;stroke-miterlimit:10;\" d=\"M -25.980762 -45 L -0.000293364 -60 \" transform=\"matrix(1,0,0,1,25.980762,60)\"/>\n",
       "<path style=\"fill:none;stroke-width:1.5;stroke-linecap:round;stroke-linejoin:round;stroke:rgb(0%,0%,0%);stroke-opacity:1;stroke-miterlimit:10;\" d=\"M 25.980175 -45 L -0.000293364 -60 \" transform=\"matrix(1,0,0,1,25.980762,60)\"/>\n",
       "<path style=\"fill:none;stroke-width:1.5;stroke-linecap:round;stroke-linejoin:round;stroke:rgb(0%,0%,0%);stroke-opacity:1;stroke-miterlimit:10;\" d=\"M 21.132519 -42.601562 L 0.347363 -54.601562 \" transform=\"matrix(1,0,0,1,25.980762,60)\"/>\n",
       "</g>\n",
       "</svg>\n"
      ],
      "text/plain": [
       "<CDPL.Chem._chem.BasicMolecule at 0x7fd0b6cf8b30>"
      ]
     },
     "metadata": {},
     "output_type": "display_data"
    }
   ],
   "source": [
    "import CDPL.Vis\n",
    "\n",
    "display(mol)"
   ]
  },
  {
   "cell_type": "code",
   "execution_count": 5,
   "id": "9d45bd36",
   "metadata": {},
   "outputs": [],
   "source": [
    "mol.removeAtom(0)"
   ]
  },
  {
   "cell_type": "code",
   "execution_count": 6,
   "id": "817c8eec",
   "metadata": {},
   "outputs": [
    {
     "data": {
      "image/svg+xml": [
       "<?xml version=\"1.0\" encoding=\"UTF-8\"?>\n",
       "<svg xmlns=\"http://www.w3.org/2000/svg\" xmlns:xlink=\"http://www.w3.org/1999/xlink\" width=\"103.923048pt\" height=\"15pt\" viewBox=\"0 0 103.923048 15\" version=\"1.1\">\n",
       "<g id=\"surface27\">\n",
       "<path style=\"fill:none;stroke-width:1.5;stroke-linecap:round;stroke-linejoin:round;stroke:rgb(0%,0%,0%);stroke-opacity:1;stroke-miterlimit:10;\" d=\"M 51.960351 -0.000000000000003553 L 25.979882 -15 \" transform=\"matrix(1,0,0,1,51.961524,15)\"/>\n",
       "<path style=\"fill:none;stroke-width:1.5;stroke-linecap:round;stroke-linejoin:round;stroke:rgb(0%,0%,0%);stroke-opacity:1;stroke-miterlimit:10;\" d=\"M 25.979882 -15 L -0.000586727 -0.000000000000003553 \" transform=\"matrix(1,0,0,1,51.961524,15)\"/>\n",
       "<path style=\"fill:none;stroke-width:1.5;stroke-linecap:round;stroke-linejoin:round;stroke:rgb(0%,0%,0%);stroke-opacity:1;stroke-miterlimit:10;\" d=\"M 25.632226 -9.601563 L 4.84707 2.398437 \" transform=\"matrix(1,0,0,1,51.961524,15)\"/>\n",
       "<path style=\"fill:none;stroke-width:1.5;stroke-linecap:round;stroke-linejoin:round;stroke:rgb(0%,0%,0%);stroke-opacity:1;stroke-miterlimit:10;\" d=\"M -0.000586727 -0.000000000000003553 L 0.167382 -0.292969 L -2.852149 -1.058594 L -4.852149 -3.59375 L -8.223243 -3.757813 L -9.875587 -6.894531 L -13.594337 -6.453125 L -14.899024 -10.195313 L -18.96543 -9.152344 L -19.918555 -13.496094 L -24.332618 -11.851563 L -24.941993 -16.796875 L -25.981055 -15 \" transform=\"matrix(1,0,0,1,51.961524,15)\"/>\n",
       "<path style=\"fill:none;stroke-width:1.5;stroke-linecap:round;stroke-linejoin:round;stroke:rgb(0%,0%,0%);stroke-opacity:1;stroke-miterlimit:10;\" d=\"M -25.981055 -15 L -51.961524 -0.000000000000003553 \" transform=\"matrix(1,0,0,1,51.961524,15)\"/>\n",
       "<path style=\"fill:none;stroke-width:1.5;stroke-linecap:round;stroke-linejoin:round;stroke:rgb(0%,0%,0%);stroke-opacity:1;stroke-miterlimit:10;\" d=\"M -26.328712 -9.601563 L -49.711524 3.898437 \" transform=\"matrix(1,0,0,1,51.961524,15)\"/>\n",
       "</g>\n",
       "</svg>\n"
      ],
      "text/plain": [
       "<CDPL.Chem._chem.BasicMolecule at 0x7fd0b6cf8b30>"
      ]
     },
     "execution_count": 6,
     "metadata": {},
     "output_type": "execute_result"
    }
   ],
   "source": [
    "mol"
   ]
  },
  {
   "cell_type": "code",
   "execution_count": null,
   "id": "99d28648",
   "metadata": {},
   "outputs": [],
   "source": []
  }
 ],
 "metadata": {
  "kernelspec": {
   "display_name": "Python 3",
   "language": "python",
   "name": "python3"
  },
  "language_info": {
   "codemirror_mode": {
    "name": "ipython",
    "version": 3
   },
   "file_extension": ".py",
   "mimetype": "text/x-python",
   "name": "python",
   "nbconvert_exporter": "python",
   "pygments_lexer": "ipython3",
   "version": "3.6.8"
  }
 },
 "nbformat": 4,
 "nbformat_minor": 5
}
